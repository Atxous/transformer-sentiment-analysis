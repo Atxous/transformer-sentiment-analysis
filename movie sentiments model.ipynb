{
 "cells": [
  {
   "cell_type": "code",
   "execution_count": 1,
   "metadata": {},
   "outputs": [],
   "source": [
    "import torch\n",
    "import torchvision\n",
    "import torchtext\n",
    "import numpy as np\n",
    "from torchvision import transforms\n",
    "from torch.utils.data import DataLoader, Dataset\n",
    "import pandas as pd\n",
    "\n",
    "np.random.seed(42)"
   ]
  },
  {
   "cell_type": "code",
   "execution_count": 2,
   "metadata": {},
   "outputs": [],
   "source": [
    "device = torch.device(\"cuda\" if torch.cuda.is_available() else \"cpu\")"
   ]
  },
  {
   "cell_type": "code",
   "execution_count": 3,
   "metadata": {},
   "outputs": [
    {
     "data": {
      "text/html": [
       "<div>\n",
       "<style scoped>\n",
       "    .dataframe tbody tr th:only-of-type {\n",
       "        vertical-align: middle;\n",
       "    }\n",
       "\n",
       "    .dataframe tbody tr th {\n",
       "        vertical-align: top;\n",
       "    }\n",
       "\n",
       "    .dataframe thead th {\n",
       "        text-align: right;\n",
       "    }\n",
       "</style>\n",
       "<table border=\"1\" class=\"dataframe\">\n",
       "  <thead>\n",
       "    <tr style=\"text-align: right;\">\n",
       "      <th></th>\n",
       "      <th>review</th>\n",
       "      <th>sentiment</th>\n",
       "    </tr>\n",
       "  </thead>\n",
       "  <tbody>\n",
       "    <tr>\n",
       "      <th>0</th>\n",
       "      <td>One of the other reviewers has mentioned that ...</td>\n",
       "      <td>positive</td>\n",
       "    </tr>\n",
       "    <tr>\n",
       "      <th>1</th>\n",
       "      <td>A wonderful little production. &lt;br /&gt;&lt;br /&gt;The...</td>\n",
       "      <td>positive</td>\n",
       "    </tr>\n",
       "    <tr>\n",
       "      <th>2</th>\n",
       "      <td>I thought this was a wonderful way to spend ti...</td>\n",
       "      <td>positive</td>\n",
       "    </tr>\n",
       "    <tr>\n",
       "      <th>3</th>\n",
       "      <td>Basically there's a family where a little boy ...</td>\n",
       "      <td>negative</td>\n",
       "    </tr>\n",
       "    <tr>\n",
       "      <th>4</th>\n",
       "      <td>Petter Mattei's \"Love in the Time of Money\" is...</td>\n",
       "      <td>positive</td>\n",
       "    </tr>\n",
       "  </tbody>\n",
       "</table>\n",
       "</div>"
      ],
      "text/plain": [
       "                                              review sentiment\n",
       "0  One of the other reviewers has mentioned that ...  positive\n",
       "1  A wonderful little production. <br /><br />The...  positive\n",
       "2  I thought this was a wonderful way to spend ti...  positive\n",
       "3  Basically there's a family where a little boy ...  negative\n",
       "4  Petter Mattei's \"Love in the Time of Money\" is...  positive"
      ]
     },
     "execution_count": 3,
     "metadata": {},
     "output_type": "execute_result"
    }
   ],
   "source": [
    "data = pd.read_csv(\"data/IMDB Dataset.csv\")\n",
    "data.head()"
   ]
  },
  {
   "cell_type": "code",
   "execution_count": 4,
   "metadata": {},
   "outputs": [
    {
     "name": "stdout",
     "output_type": "stream",
     "text": [
      "<class 'pandas.core.frame.DataFrame'>\n",
      "RangeIndex: 50000 entries, 0 to 49999\n",
      "Data columns (total 2 columns):\n",
      " #   Column     Non-Null Count  Dtype \n",
      "---  ------     --------------  ----- \n",
      " 0   review     50000 non-null  object\n",
      " 1   sentiment  50000 non-null  object\n",
      "dtypes: object(2)\n",
      "memory usage: 781.4+ KB\n"
     ]
    }
   ],
   "source": [
    "data.info()"
   ]
  },
  {
   "cell_type": "code",
   "execution_count": 5,
   "metadata": {},
   "outputs": [],
   "source": [
    "data[\"review\"] = data[\"review\"].replace({\"<br /><br />\":\"\"}, regex = True)\n",
    "data[\"sentiment\"].replace({\"negative\":0, \"positive\" : 1}, inplace = True)\n",
    "data[\"sentiment\"] = data[\"sentiment\"].astype(np.int16)"
   ]
  },
  {
   "cell_type": "code",
   "execution_count": 6,
   "metadata": {},
   "outputs": [],
   "source": [
    "from sklearn.model_selection import train_test_split\n",
    "\n",
    "train_set_full, test_set = train_test_split(data, \n",
    "                                            test_size = 0.1, stratify = data[\"sentiment\"], \n",
    "                                            random_state = 42)\n",
    "train_set, valid_set = train_test_split(train_set_full, \n",
    "                                        test_size = 5000, stratify = train_set_full[\"sentiment\"], \n",
    "                                        random_state = 42)"
   ]
  },
  {
   "cell_type": "code",
   "execution_count": 7,
   "metadata": {},
   "outputs": [],
   "source": [
    "tokenizer = torchtext.data.utils.get_tokenizer(\"basic_english\")\n",
    "\n",
    "def generate_tokens(text_data):\n",
    "    for text in text_data:\n",
    "        yield tokenizer(text)"
   ]
  },
  {
   "cell_type": "code",
   "execution_count": 8,
   "metadata": {},
   "outputs": [],
   "source": [
    "vocab_size = 15000\n",
    "\n",
    "vocab = torchtext.vocab.build_vocab_from_iterator(generate_tokens(train_set[\"review\"]), specials = [\"<unk>\"],\n",
    "                                          max_tokens = vocab_size)\n",
    "vocab.set_default_index(vocab[\"<unk>\"])"
   ]
  },
  {
   "cell_type": "code",
   "execution_count": 9,
   "metadata": {},
   "outputs": [],
   "source": [
    "max_length = max(data[\"review\"].apply(lambda x: len(tokenizer(x))))"
   ]
  },
  {
   "cell_type": "code",
   "execution_count": 10,
   "metadata": {},
   "outputs": [],
   "source": [
    "def padding(reviews, tokenizer = tokenizer, vocab = vocab, length = max_length):\n",
    "    reviews = reviews.values\n",
    "    encoded_text = [(vocab(tokenizer(review)).float(), label) for review, label in reviews]\n",
    "    \n",
    "    padded_features = [(torch.nn.functional.pad(torch.tensor(encoded_review),\n",
    "                                   (0, length - len(encoded_review)),\n",
    "                                   mode='constant', \n",
    "                                   value=0), label) for encoded_review, label in encoded_text]\n",
    "    return padded_features"
   ]
  },
  {
   "cell_type": "code",
   "execution_count": 11,
   "metadata": {},
   "outputs": [],
   "source": [
    "class MovieDataset(Dataset):\n",
    "    def __init__(self, text_data, vocab, tokenizer, length):\n",
    "        text_data = text_data.values\n",
    "        encoded_text = [(vocab(tokenizer(review)), label) for review, label in text_data]\n",
    "        padded_features = [(torch.nn.functional.pad(torch.tensor(review),\n",
    "                                   (0, length - len(review)), \n",
    "                                   mode='constant', \n",
    "                                   value=0), label) for review, label in encoded_text]\n",
    "        self.encoded_text = padded_features\n",
    "        \n",
    "    def __len__(self):\n",
    "        return len(self.encoded_text)\n",
    "    \n",
    "    def __getitem__(self, idx):\n",
    "        seq = self.encoded_text[idx][0]\n",
    "        target_sentiment = self.encoded_text[idx][1] \n",
    "        return seq.clone().detach(), target_sentiment"
   ]
  },
  {
   "cell_type": "code",
   "execution_count": 12,
   "metadata": {},
   "outputs": [],
   "source": [
    "batch_size = 32\n",
    "\n",
    "train_loader = DataLoader(MovieDataset(train_set, vocab, tokenizer, max_length), \n",
    "                          batch_size = batch_size, shuffle = True)\n",
    "valid_loader = DataLoader(MovieDataset(valid_set, vocab, tokenizer, max_length), batch_size = batch_size, shuffle = True)\n",
    "test_loader = DataLoader(MovieDataset(test_set, vocab, tokenizer, max_length), batch_size = batch_size, shuffle = True)"
   ]
  },
  {
   "cell_type": "code",
   "execution_count": 13,
   "metadata": {},
   "outputs": [],
   "source": [
    "import math\n",
    "\n",
    "class PositionalEncoder(torch.nn.Module):\n",
    "    def __init__(self, max_length, embed_size, dtype = np.float32):\n",
    "        super().__init__()\n",
    "        self.dropout = torch.nn.Dropout(0.2)\n",
    "        assert embed_size % 2 == 0, \"even size required\"\n",
    "        \n",
    "        p, i = torch.meshgrid(2 * torch.arange(embed_size // 2), torch.arange(max_length), \n",
    "                              indexing = \"ij\")\n",
    "        pos_embed = torch.empty(1, max_length, embed_size)\n",
    "        pos_embed[0, :, ::2] = torch.sin(p / 10000 ** (i / embed_size)).T\n",
    "        pos_embed[0, :, 1::2] = torch.cos(p / 10000 ** (i / embed_size)).T\n",
    "        self.register_buffer(\"pos_embed\", pos_embed)\n",
    "        \n",
    "    def forward(self, x):\n",
    "        x = x + self.pos_embed[:x.size(0)]\n",
    "        return self.dropout(x)"
   ]
  },
  {
   "cell_type": "code",
   "execution_count": 14,
   "metadata": {},
   "outputs": [],
   "source": [
    "class TransformerEncoder(torch.nn.Module):\n",
    "    def __init__(self, vocab_size, max_length, embed_size):\n",
    "        super().__init__()\n",
    "        self.embedding = torch.nn.Sequential(\n",
    "            torch.nn.Embedding(vocab_size, embed_size),\n",
    "            PositionalEncoder(max_length, embed_size)\n",
    "        )\n",
    "        self.multihead = torch.nn.MultiheadAttention(embed_size, 1, dropout = 0.2, batch_first = True)\n",
    "        self.FeedForward = torch.nn.Sequential(\n",
    "            torch.nn.Linear(embed_size, 128),\n",
    "            torch.nn.ReLU(),\n",
    "            torch.nn.Dropout(0.3),\n",
    "            torch.nn.Linear(128, embed_size),\n",
    "            torch.nn.Dropout(0.4) \n",
    "        )\n",
    "        self.layer_norm1 = torch.nn.LayerNorm(embed_size)\n",
    "        self.layer_norm2 = torch.nn.LayerNorm(embed_size)\n",
    "        self.Classification = torch.nn.Sequential(\n",
    "            torch.nn.Linear(embed_size, 128),\n",
    "            torch.nn.ReLU(),\n",
    "            torch.nn.Dropout(0.3),\n",
    "            torch.nn.Linear(128, 1),\n",
    "        )\n",
    "        \n",
    "    def forward(self, x):\n",
    "        mask = torch.not_equal(x, 0)\n",
    "        x = self.embedding(x)\n",
    "        skip = x\n",
    "        x, _ = self.multihead(x, x, x, key_padding_mask = mask)\n",
    "        x = torch.add(x, skip)\n",
    "        x = self.layer_norm1(x)\n",
    "        skip = x\n",
    "        x = self.FeedForward(x)\n",
    "        x = torch.add(x, skip)\n",
    "        x = self.layer_norm2(x)\n",
    "        x = x.mean(dim = 1)\n",
    "        x = self.Classification(x)\n",
    "        return x.squeeze()"
   ]
  },
  {
   "cell_type": "code",
   "execution_count": 15,
   "metadata": {},
   "outputs": [],
   "source": [
    "model = TransformerEncoder(vocab_size, max_length, 64)\n",
    "loss_fn = torch.nn.BCEWithLogitsLoss()\n",
    "optimizer = torch.optim.NAdam(model.parameters(), lr = 0.001)\n",
    "model = model.to(device)"
   ]
  },
  {
   "cell_type": "code",
   "execution_count": 16,
   "metadata": {},
   "outputs": [],
   "source": [
    "def train(dataloader, valid_dataloader, model, loss_fn, optimizer, device, function = None):\n",
    "    size = len(dataloader.dataset)\n",
    "    model.train()\n",
    "    train_correct = 0\n",
    "    for batch, (x, y) in enumerate(dataloader):\n",
    "        x, y = x.to(device), y.to(device).float()\n",
    "        pred = model(x)\n",
    "        loss = loss_fn(pred, y)\n",
    "        loss.backward()\n",
    "        optimizer.step()\n",
    "        optimizer.zero_grad()\n",
    "            \n",
    "        train_correct += ((pred > 0.5) == y).type(torch.float).sum().item()\n",
    "        \n",
    "        if batch % 100 == 0:\n",
    "            loss, current = loss.item(), (batch + 1) * len(x)\n",
    "            \n",
    "            print(f\"loss: {loss:>5f}  [{current:>3d}/{size:>3d}]\")\n",
    "    print(f\"Final Training Accuracy: {(100*train_correct / size):>0.1f}%\")\n",
    "    model.eval()\n",
    "    size = len(valid_dataloader.dataset)\n",
    "    num_batches = len(valid_dataloader)\n",
    "    valid_loss, correct = 0, 0\n",
    "    with torch.no_grad():\n",
    "        for x, y in valid_dataloader:\n",
    "            x, y = x.to(device), y.to(device).float()\n",
    "            pred = model(x)\n",
    "            valid_loss += loss_fn(pred, y).item()\n",
    "            correct += ((pred > 0.5) == y).type(torch.float).sum().item()\n",
    "    if function:\n",
    "        function(valid_loss, model)\n",
    "    valid_loss /= num_batches\n",
    "    correct /= size\n",
    "    print(f\"Validation Error: \\n Accuracy: {(100*correct):>0.1f}%, Avg loss: {valid_loss:>8f} \\n\")\n",
    "            \n",
    "    \n",
    "            \n",
    "def test(dataloader, model, loss_fn):\n",
    "    size = len(dataloader.dataset)\n",
    "    num_batches = len(dataloader)\n",
    "    model.eval()\n",
    "    test_loss, correct = 0, 0\n",
    "    with torch.no_grad():\n",
    "        for x, y in dataloader:\n",
    "            x, y = x.to(device), y.to(device).float()\n",
    "            pred = model(x)\n",
    "            test_loss += loss_fn(pred, y).item()\n",
    "            correct += ((pred > 0.5) == y).type(torch.float).sum().item()\n",
    "    test_loss /= num_batches\n",
    "    correct /= size\n",
    "    print(f\"Test Error: \\n Accuracy: {(100*correct):>0.1f}%, Avg loss: {test_loss:>8f} \\n\")"
   ]
  },
  {
   "cell_type": "code",
   "execution_count": 17,
   "metadata": {},
   "outputs": [
    {
     "name": "stdout",
     "output_type": "stream",
     "text": [
      "Epoch 1\n",
      "-------------------------------\n",
      "loss: 0.728312  [ 32/40000]\n",
      "loss: 0.698378  [3232/40000]\n",
      "loss: 0.699329  [6432/40000]\n",
      "loss: 0.694687  [9632/40000]\n",
      "loss: 0.694447  [12832/40000]\n",
      "loss: 0.695529  [16032/40000]\n",
      "loss: 0.692197  [19232/40000]\n",
      "loss: 0.693455  [22432/40000]\n",
      "loss: 0.692359  [25632/40000]\n",
      "loss: 0.691468  [28832/40000]\n",
      "loss: 0.689224  [32032/40000]\n",
      "loss: 0.692275  [35232/40000]\n",
      "loss: 0.690408  [38432/40000]\n",
      "Final Training Accuracy: 50.0%\n"
     ]
    },
    {
     "name": "stderr",
     "output_type": "stream",
     "text": [
      "c:\\python stuff\\envs\\PyTorch\\lib\\site-packages\\torch\\nn\\modules\\activation.py:1160: UserWarning: Converting mask without torch.bool dtype to bool; this will negatively affect performance. Prefer to use a boolean mask directly. (Triggered internally at C:\\actions-runner\\_work\\pytorch\\pytorch\\builder\\windows\\pytorch\\aten\\src\\ATen\\native\\transformers\\attention.cpp:152.)\n",
      "  return torch._native_multi_head_attention(\n"
     ]
    },
    {
     "name": "stdout",
     "output_type": "stream",
     "text": [
      "Validation Error: \n",
      " Accuracy: 50.0%, Avg loss: 0.693105 \n",
      "\n",
      "Epoch 2\n",
      "-------------------------------\n",
      "loss: 0.692193  [ 32/40000]\n",
      "loss: 0.695631  [3232/40000]\n",
      "loss: 0.702477  [6432/40000]\n",
      "loss: 0.696355  [9632/40000]\n",
      "loss: 0.695912  [12832/40000]\n",
      "loss: 0.690812  [16032/40000]\n",
      "loss: 0.695397  [19232/40000]\n",
      "loss: 0.693265  [22432/40000]\n",
      "loss: 0.694485  [25632/40000]\n",
      "loss: 0.701045  [28832/40000]\n",
      "loss: 0.695461  [32032/40000]\n",
      "loss: 0.694243  [35232/40000]\n",
      "loss: 0.686387  [38432/40000]\n",
      "Final Training Accuracy: 50.0%\n",
      "Validation Error: \n",
      " Accuracy: 50.0%, Avg loss: 0.695965 \n",
      "\n",
      "Epoch 3\n",
      "-------------------------------\n",
      "loss: 0.700880  [ 32/40000]\n",
      "loss: 0.694241  [3232/40000]\n",
      "loss: 0.691354  [6432/40000]\n",
      "loss: 0.689961  [9632/40000]\n",
      "loss: 0.688124  [12832/40000]\n",
      "loss: 0.683701  [16032/40000]\n",
      "loss: 0.704618  [19232/40000]\n",
      "loss: 0.684549  [22432/40000]\n",
      "loss: 0.705065  [25632/40000]\n",
      "loss: 0.669506  [28832/40000]\n",
      "loss: 0.652000  [32032/40000]\n",
      "loss: 0.587934  [35232/40000]\n",
      "loss: 0.662937  [38432/40000]\n",
      "Final Training Accuracy: 53.5%\n",
      "Validation Error: \n",
      " Accuracy: 73.3%, Avg loss: 0.561306 \n",
      "\n",
      "Epoch 4\n",
      "-------------------------------\n",
      "loss: 0.612227  [ 32/40000]\n",
      "loss: 0.460479  [3232/40000]\n",
      "loss: 0.540823  [6432/40000]\n",
      "loss: 0.549881  [9632/40000]\n",
      "loss: 0.429296  [12832/40000]\n",
      "loss: 0.541926  [16032/40000]\n",
      "loss: 0.588050  [19232/40000]\n",
      "loss: 0.550560  [22432/40000]\n",
      "loss: 0.433595  [25632/40000]\n",
      "loss: 0.393159  [28832/40000]\n",
      "loss: 0.360838  [32032/40000]\n",
      "loss: 0.601781  [35232/40000]\n",
      "loss: 0.637652  [38432/40000]\n",
      "Final Training Accuracy: 73.2%\n",
      "Validation Error: \n",
      " Accuracy: 80.0%, Avg loss: 0.463126 \n",
      "\n",
      "Epoch 5\n",
      "-------------------------------\n",
      "loss: 0.332605  [ 32/40000]\n",
      "loss: 0.423739  [3232/40000]\n",
      "loss: 0.321622  [6432/40000]\n",
      "loss: 0.521980  [9632/40000]\n",
      "loss: 0.446120  [12832/40000]\n",
      "loss: 0.365949  [16032/40000]\n",
      "loss: 0.593133  [19232/40000]\n",
      "loss: 0.629547  [22432/40000]\n",
      "loss: 0.288816  [25632/40000]\n",
      "loss: 0.275481  [28832/40000]\n",
      "loss: 0.617535  [32032/40000]\n",
      "loss: 0.342475  [35232/40000]\n",
      "loss: 0.477372  [38432/40000]\n",
      "Final Training Accuracy: 81.4%\n",
      "Validation Error: \n",
      " Accuracy: 84.6%, Avg loss: 0.380626 \n",
      "\n",
      "Epoch 6\n",
      "-------------------------------\n",
      "loss: 0.324500  [ 32/40000]\n",
      "loss: 0.368037  [3232/40000]\n",
      "loss: 0.528089  [6432/40000]\n",
      "loss: 0.429249  [9632/40000]\n",
      "loss: 0.255277  [12832/40000]\n",
      "loss: 0.455045  [16032/40000]\n",
      "loss: 0.443577  [19232/40000]\n",
      "loss: 0.231985  [22432/40000]\n",
      "loss: 0.365908  [25632/40000]\n",
      "loss: 0.305222  [28832/40000]\n",
      "loss: 0.460557  [32032/40000]\n",
      "loss: 0.332956  [35232/40000]\n",
      "loss: 0.313629  [38432/40000]\n",
      "Final Training Accuracy: 85.3%\n",
      "Validation Error: \n",
      " Accuracy: 86.9%, Avg loss: 0.330340 \n",
      "\n",
      "Epoch 7\n",
      "-------------------------------\n",
      "loss: 0.363968  [ 32/40000]\n",
      "loss: 0.254803  [3232/40000]\n",
      "loss: 0.189515  [6432/40000]\n",
      "loss: 0.268895  [9632/40000]\n",
      "loss: 0.441684  [12832/40000]\n",
      "loss: 0.238419  [16032/40000]\n",
      "loss: 0.300719  [19232/40000]\n",
      "loss: 0.276324  [22432/40000]\n",
      "loss: 0.340482  [25632/40000]\n",
      "loss: 0.339881  [28832/40000]\n",
      "loss: 0.223522  [32032/40000]\n",
      "loss: 0.228434  [35232/40000]\n",
      "loss: 0.175419  [38432/40000]\n",
      "Final Training Accuracy: 87.5%\n",
      "Validation Error: \n",
      " Accuracy: 86.7%, Avg loss: 0.350500 \n",
      "\n",
      "Epoch 8\n",
      "-------------------------------\n",
      "loss: 0.283070  [ 32/40000]\n",
      "loss: 0.171440  [3232/40000]\n",
      "loss: 0.342248  [6432/40000]\n",
      "loss: 0.216797  [9632/40000]\n",
      "loss: 0.344248  [12832/40000]\n",
      "loss: 0.370491  [16032/40000]\n",
      "loss: 0.187039  [19232/40000]\n",
      "loss: 0.252584  [22432/40000]\n",
      "loss: 0.242442  [25632/40000]\n",
      "loss: 0.128369  [28832/40000]\n",
      "loss: 0.207352  [32032/40000]\n",
      "loss: 0.250443  [35232/40000]\n",
      "loss: 0.193668  [38432/40000]\n",
      "Final Training Accuracy: 89.0%\n",
      "Validation Error: \n",
      " Accuracy: 87.7%, Avg loss: 0.315801 \n",
      "\n",
      "Epoch 9\n",
      "-------------------------------\n",
      "loss: 0.094757  [ 32/40000]\n",
      "loss: 0.233906  [3232/40000]\n",
      "loss: 0.315341  [6432/40000]\n",
      "loss: 0.160963  [9632/40000]\n",
      "loss: 0.111633  [12832/40000]\n",
      "loss: 0.174304  [16032/40000]\n",
      "loss: 0.141387  [19232/40000]\n",
      "loss: 0.218380  [22432/40000]\n",
      "loss: 0.480543  [25632/40000]\n",
      "loss: 0.185321  [28832/40000]\n",
      "loss: 0.083736  [32032/40000]\n",
      "loss: 0.322461  [35232/40000]\n",
      "loss: 0.247490  [38432/40000]\n",
      "Final Training Accuracy: 89.7%\n",
      "Validation Error: \n",
      " Accuracy: 86.9%, Avg loss: 0.383690 \n",
      "\n",
      "Epoch 10\n",
      "-------------------------------\n",
      "loss: 0.141301  [ 32/40000]\n",
      "loss: 0.142444  [3232/40000]\n",
      "loss: 0.192758  [6432/40000]\n",
      "loss: 0.243367  [9632/40000]\n",
      "loss: 0.268393  [12832/40000]\n",
      "loss: 0.332896  [16032/40000]\n",
      "loss: 0.262876  [19232/40000]\n",
      "loss: 0.133787  [22432/40000]\n",
      "loss: 0.197118  [25632/40000]\n",
      "loss: 0.141367  [28832/40000]\n",
      "loss: 0.208093  [32032/40000]\n",
      "loss: 0.138479  [35232/40000]\n",
      "loss: 0.594359  [38432/40000]\n",
      "Final Training Accuracy: 90.4%\n",
      "Validation Error: \n",
      " Accuracy: 86.6%, Avg loss: 0.395471 \n",
      "\n"
     ]
    }
   ],
   "source": [
    "epochs = 10\n",
    "for epoch in range(epochs):\n",
    "    print(f\"Epoch {epoch+1}\\n-------------------------------\")\n",
    "    train(train_loader, valid_loader, model, loss_fn, optimizer, device)"
   ]
  },
  {
   "cell_type": "code",
   "execution_count": 18,
   "metadata": {},
   "outputs": [
    {
     "name": "stdout",
     "output_type": "stream",
     "text": [
      "Test Error: \n",
      " Accuracy: 87.7%, Avg loss: 0.375420 \n",
      "\n"
     ]
    }
   ],
   "source": [
    "test(test_loader, model, loss_fn)"
   ]
  },
  {
   "cell_type": "code",
   "execution_count": 23,
   "metadata": {},
   "outputs": [
    {
     "data": {
      "text/plain": [
       "tensor(True, device='cuda:0')"
      ]
     },
     "execution_count": 23,
     "metadata": {},
     "output_type": "execute_result"
    }
   ],
   "source": [
    "example_pos = \"That was one of the best movies I've ever seen!\"\n",
    "example_pos = torch.nn.functional.pad(torch.tensor(vocab(tokenizer(example_pos))),\n",
    "                                   (0, max_length - len(tokenizer(example_pos))), \n",
    "                                   mode='constant', \n",
    "                                   value=0)\n",
    "model(example_pos.to(device).unsqueeze(0)) > 0.5\n",
    "#True = positive, False = negative"
   ]
  },
  {
   "cell_type": "code",
   "execution_count": 28,
   "metadata": {},
   "outputs": [
    {
     "data": {
      "text/plain": [
       "tensor(False, device='cuda:0')"
      ]
     },
     "execution_count": 28,
     "metadata": {},
     "output_type": "execute_result"
    }
   ],
   "source": [
    "example_neg = \"That movie was horrible. I fell asleep halfway through.\"\n",
    "example_neg = torch.nn.functional.pad(torch.tensor(vocab(tokenizer(example_neg))),\n",
    "                                   (0, max_length - len(tokenizer(example_neg))), \n",
    "                                   mode='constant', \n",
    "                                   value=0)\n",
    "model(example_neg.to(device).unsqueeze(0)) > 0.5"
   ]
  },
  {
   "cell_type": "code",
   "execution_count": 30,
   "metadata": {},
   "outputs": [
    {
     "data": {
      "text/plain": [
       "tensor(False, device='cuda:0')"
      ]
     },
     "execution_count": 30,
     "metadata": {},
     "output_type": "execute_result"
    }
   ],
   "source": [
    "example_neu = \"The movie was okay. I liked the part where the main character saved everyone, but I did start falling asleep.\"\n",
    "example_neu = torch.nn.functional.pad(torch.tensor(vocab(tokenizer(example_neu))),\n",
    "                                   (0, max_length - len(tokenizer(example_neu))), \n",
    "                                   mode='constant', \n",
    "                                   value=0)\n",
    "model(example_neu.to(device).unsqueeze(0)) > 0.5"
   ]
  }
 ],
 "metadata": {
  "kernelspec": {
   "display_name": "Python 3 (ipykernel)",
   "language": "python",
   "name": "python3"
  },
  "language_info": {
   "codemirror_mode": {
    "name": "ipython",
    "version": 3
   },
   "file_extension": ".py",
   "mimetype": "text/x-python",
   "name": "python",
   "nbconvert_exporter": "python",
   "pygments_lexer": "ipython3",
   "version": "3.9.17"
  }
 },
 "nbformat": 4,
 "nbformat_minor": 4
}
